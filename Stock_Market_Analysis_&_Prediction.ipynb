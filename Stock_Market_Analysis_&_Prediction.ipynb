{
  "nbformat": 4,
  "nbformat_minor": 0,
  "metadata": {
    "colab": {
      "private_outputs": true,
      "provenance": [],
      "mount_file_id": "1bpM-I-feyOwqUqj9wf0vE49ou3EHC8gN",
      "authorship_tag": "ABX9TyPrXhLlC+F507GriarTv3n3",
      "include_colab_link": true
    },
    "kernelspec": {
      "display_name": "Python 3",
      "name": "python3"
    }
  },
  "cells": [
    {
      "cell_type": "markdown",
      "metadata": {
        "id": "view-in-github",
        "colab_type": "text"
      },
      "source": [
        "<a href=\"https://colab.research.google.com/github/Nihar16/Personal-Repository/blob/main/Stock_Market_Analysis_%26_Prediction.ipynb\" target=\"_parent\"><img src=\"https://colab.research.google.com/assets/colab-badge.svg\" alt=\"Open In Colab\"/></a>"
      ]
    },
    {
      "cell_type": "markdown",
      "metadata": {
        "id": "vjaA-yhFgdoZ"
      },
      "source": [
        "# ***Stock Market Analysis & Prediction***"
      ]
    },
    {
      "cell_type": "code",
      "metadata": {
        "id": "lL2hc7IIwtIf"
      },
      "source": [
        "#Libraries To Be Imported\n",
        "import math\n",
        "import pandas_datareader as web\n",
        "import numpy as np\n",
        "import pandas as pd\n",
        "import tensorflow\n",
        "import yfinance as yf\n",
        "from sklearn.preprocessing import MinMaxScaler\n",
        "from keras.models import Sequential\n",
        "from keras.layers import Dense , LSTM\n",
        "import matplotlib.pyplot as plt\n",
        "plt.style.use('fivethirtyeight')"
      ],
      "execution_count": null,
      "outputs": []
    },
    {
      "cell_type": "code",
      "metadata": {
        "id": "r757wcMIwutD"
      },
      "source": [
        "#Geting Stock Data\n",
        "df = yf.download('AAPL', start='2021-12-11', end='2023-12-12') # Changed the start date to be one day before the end date.\n",
        "#Showing Stock Data\n",
        "print(df)"
      ],
      "execution_count": null,
      "outputs": []
    },
    {
      "cell_type": "code",
      "metadata": {
        "id": "lPKRIY5CytFn"
      },
      "source": [
        "#Getting Number Of Rows & Columns From The Data\n",
        "df.shape"
      ],
      "execution_count": null,
      "outputs": []
    },
    {
      "cell_type": "code",
      "metadata": {
        "id": "svTQfSwWz4UY"
      },
      "source": [
        "#Visualise Closing Price\n",
        "plt.figure(figsize=(16,8))\n",
        "plt.title('Closing Price')\n",
        "plt.plot(df['Close'])\n",
        "plt.xlabel('Year', fontsize = 20)\n",
        "plt.ylabel('Close Price USD ($)', fontsize = 20)\n",
        "plt.show()"
      ],
      "execution_count": null,
      "outputs": []
    },
    {
      "cell_type": "code",
      "metadata": {
        "id": "ns270Qzc30h8"
      },
      "source": [
        "#Creating Close Column DataFrame\n",
        "data = df.filter(['Close'])\n",
        "#Convert The DataFrame To A Numpy Array\n",
        "dataset = data.values\n",
        "#Get Number Of Rows To Train The Model On\n",
        "training_data_len = math.ceil(len(dataset)*.9)\n",
        "training_data_len"
      ],
      "execution_count": null,
      "outputs": []
    },
    {
      "cell_type": "code",
      "metadata": {
        "id": "3jNfqz6C6HdL"
      },
      "source": [
        "#Scaling Data\n",
        "scaler = MinMaxScaler(feature_range=(0,1))\n",
        "scaled_data = scaler.fit_transform(dataset)\n",
        "scaled_data"
      ],
      "execution_count": null,
      "outputs": []
    },
    {
      "cell_type": "code",
      "metadata": {
        "id": "P__BqJAXJYUF"
      },
      "source": [
        "#Creating Trained Data Set\n",
        "#Creating Scaled Training Data Set\n",
        "train_data = scaled_data[0:training_data_len , :]\n",
        "#Splitting Data Into x_train & y_train Data Sets\n",
        "x_train = []\n",
        "y_train = []\n",
        "for i in range(60,len(train_data)):\n",
        "  x_train.append(train_data[i-60:i,0])\n",
        "  y_train.append(train_data[i,0])\n",
        "  if i<=60:\n",
        "    print(x_train)\n",
        "    print(y_train)\n",
        "    print()"
      ],
      "execution_count": null,
      "outputs": []
    },
    {
      "cell_type": "code",
      "metadata": {
        "id": "hICMZiuXOOl1"
      },
      "source": [
        "#Convert x_train & y_train Dataset To Numpy Arrays\n",
        "x_train, y_train = np.array(x_train), np.array(y_train)"
      ],
      "execution_count": null,
      "outputs": []
    },
    {
      "cell_type": "code",
      "metadata": {
        "id": "8qabQC8rPbQ6"
      },
      "source": [
        "#Reshaping Data\n",
        "x_train = np.reshape(x_train, (x_train.shape[0], x_train.shape[1], 1))\n",
        "x_train.shape"
      ],
      "execution_count": null,
      "outputs": []
    },
    {
      "cell_type": "code",
      "metadata": {
        "id": "mIDlfaHLQbXj"
      },
      "source": [
        "#Building Long Short-Term Memory(LSTM) Model\n",
        "model = Sequential()\n",
        "model.add(LSTM(50, return_sequences=True, input_shape=(x_train.shape[1], 1)))\n",
        "model.add(LSTM(50, return_sequences=False))\n",
        "model.add(Dense(25))\n",
        "model.add(Dense(1))"
      ],
      "execution_count": null,
      "outputs": []
    },
    {
      "cell_type": "code",
      "metadata": {
        "id": "EpSwoH_FQ7Kg"
      },
      "source": [
        "#Compiling The Model\n",
        "model.compile(optimizer='adam', loss='mean_squared_error')"
      ],
      "execution_count": null,
      "outputs": []
    },
    {
      "cell_type": "code",
      "metadata": {
        "id": "Jb6M6U1lU7z4"
      },
      "source": [
        "#Training The Model\n",
        "model.fit(x_train, y_train, batch_size=1, epochs=1)"
      ],
      "execution_count": null,
      "outputs": []
    },
    {
      "cell_type": "code",
      "metadata": {
        "id": "eU_xJG5QV6it"
      },
      "source": [
        "#Create Testing Dataset\n",
        "#Create New Array Containing Scaled Values From index 1740 To 2000\n",
        "test_data = scaled_data[training_data_len - 60: , :]\n",
        "#Now Creating Data Sets x_test & y_test\n",
        "x_test = []\n",
        "y_test = dataset[training_data_len:, :]\n",
        "for i in range(60, len(test_data)):\n",
        "  x_test.append(test_data[i-60:i, 0])"
      ],
      "execution_count": null,
      "outputs": []
    },
    {
      "cell_type": "code",
      "metadata": {
        "id": "Wm2nJulMbTSr"
      },
      "source": [
        "#Converting The Data Into A Numpy Array\n",
        "x_test = np.array(x_test)"
      ],
      "execution_count": null,
      "outputs": []
    },
    {
      "cell_type": "code",
      "metadata": {
        "id": "ripkeaF9br5q"
      },
      "source": [
        "#Reshaping The Data\n",
        "x_test = np.reshape(x_test, (x_test.shape[0], x_test.shape[1], 1))"
      ],
      "execution_count": null,
      "outputs": []
    },
    {
      "cell_type": "code",
      "metadata": {
        "id": "aJil-sK6cP0R"
      },
      "source": [
        "#Get Models Predicted Price Values\n",
        "predictions = model.predict(x_test)\n",
        "predictions = scaler.inverse_transform(predictions)"
      ],
      "execution_count": null,
      "outputs": []
    },
    {
      "cell_type": "code",
      "metadata": {
        "id": "r8DeIW7_d-lW"
      },
      "source": [
        "#Get The Root Mean Squared Error (RMSE)\n",
        "rmse = np.sqrt(np.mean(predictions - y_test)**2)\n",
        "rmse"
      ],
      "execution_count": null,
      "outputs": []
    },
    {
      "cell_type": "code",
      "metadata": {
        "id": "0uBnwX9BgNIv"
      },
      "source": [
        "#Plot The Data\n",
        "train = data[:training_data_len]\n",
        "valid = data[training_data_len:]\n",
        "valid['Predictions'] = predictions\n",
        "#Visualizing The Data\n",
        "plt.figure(figsize=(16,8))\n",
        "plt.title('Prediction Model')\n",
        "plt.xlabel('Year', fontsize=20)\n",
        "plt.ylabel('Close Price USD ($)', fontsize = 20)\n",
        "plt.plot(train['Close'])\n",
        "plt.plot(valid[['Close', 'Predictions']])\n",
        "plt.legend(['Train', 'Val', 'Predictions'], loc='upper left')\n",
        "plt.show()"
      ],
      "execution_count": null,
      "outputs": []
    },
    {
      "cell_type": "code",
      "metadata": {
        "id": "qrNQUegQn01A"
      },
      "source": [
        "#Show The Valid & Predicted Prices\n",
        "valid"
      ],
      "execution_count": null,
      "outputs": []
    },
    {
      "cell_type": "code",
      "metadata": {
        "id": "ZqeERn76omvW"
      },
      "source": [
        "!pip install yfinance\n",
        "import yfinance as yf\n",
        "\n",
        "#Get Predicted Quote\n",
        "apple_quote = yf.download('AAPL', start = '2012-01-01' , end = '2019-12-12')\n",
        "#Create New Dataframe\n",
        "new_df = apple_quote.filter(['Close'])\n",
        "#Get The Last 60 Day Closing Price Values & Convert The DataFrame To An Array\n",
        "last_60_days = new_df[-60:].values\n",
        "#Scale The Data To Be Values Between 0 & 1\n",
        "last_60_days_scaled = scaler.transform(last_60_days)\n",
        "#Creating An Empty List\n",
        "X_test = []\n",
        "#Append Past 60 Days\n",
        "X_test.append(last_60_days_scaled)\n",
        "#Convert X_test Data Set To A Numpy Array\n",
        "X_test = np.array(X_test)\n",
        "#Reshape The Data\n",
        "X_test = np.reshape(X_test, (X_test.shape[0], X_test.shape[1], 1))\n",
        "#Get Predicted Scaled Price\n",
        "pred_price = model.predict(X_test)\n",
        "#Undo Scaling\n",
        "pred_price = scaler.inverse_transform(pred_price)\n",
        "print(pred_price)"
      ],
      "execution_count": null,
      "outputs": []
    },
    {
      "cell_type": "code",
      "metadata": {
        "id": "tCjYnBckthJy"
      },
      "source": [
        "#Get Real Quote\n",
        "apple_quote1 = yf.download('AAPL', start='2019-12-12', end='2019-12-12')\n",
        "print(apple_quote1['Close'])"
      ],
      "execution_count": null,
      "outputs": []
    }
  ]
}